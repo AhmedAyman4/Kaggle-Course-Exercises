{
 "cells": [
  {
   "cell_type": "code",
   "execution_count": 1,
   "id": "dbdcaffb",
   "metadata": {
    "_cell_guid": "b1076dfc-b9ad-4769-8c92-a6c4dae69d19",
    "_uuid": "8f2839f25d086af736a60e9eeb907d3b93b6e0e5",
    "execution": {
     "iopub.execute_input": "2024-07-11T13:17:53.808625Z",
     "iopub.status.busy": "2024-07-11T13:17:53.808232Z",
     "iopub.status.idle": "2024-07-11T13:17:54.856431Z",
     "shell.execute_reply": "2024-07-11T13:17:54.854752Z"
    },
    "papermill": {
     "duration": 1.059,
     "end_time": "2024-07-11T13:17:54.859230",
     "exception": false,
     "start_time": "2024-07-11T13:17:53.800230",
     "status": "completed"
    },
    "tags": []
   },
   "outputs": [
    {
     "name": "stdout",
     "output_type": "stream",
     "text": [
      "/kaggle/input/fitbit/mturkfitbit_export_3.12.16-4.11.16/Fitabase Data 3.12.16-4.11.16/minuteCaloriesNarrow_merged.csv\n",
      "/kaggle/input/fitbit/mturkfitbit_export_3.12.16-4.11.16/Fitabase Data 3.12.16-4.11.16/weightLogInfo_merged.csv\n",
      "/kaggle/input/fitbit/mturkfitbit_export_3.12.16-4.11.16/Fitabase Data 3.12.16-4.11.16/minuteMETsNarrow_merged.csv\n",
      "/kaggle/input/fitbit/mturkfitbit_export_3.12.16-4.11.16/Fitabase Data 3.12.16-4.11.16/hourlyCalories_merged.csv\n",
      "/kaggle/input/fitbit/mturkfitbit_export_3.12.16-4.11.16/Fitabase Data 3.12.16-4.11.16/heartrate_seconds_merged.csv\n",
      "/kaggle/input/fitbit/mturkfitbit_export_3.12.16-4.11.16/Fitabase Data 3.12.16-4.11.16/minuteSleep_merged.csv\n",
      "/kaggle/input/fitbit/mturkfitbit_export_3.12.16-4.11.16/Fitabase Data 3.12.16-4.11.16/hourlyIntensities_merged.csv\n",
      "/kaggle/input/fitbit/mturkfitbit_export_3.12.16-4.11.16/Fitabase Data 3.12.16-4.11.16/hourlySteps_merged.csv\n",
      "/kaggle/input/fitbit/mturkfitbit_export_3.12.16-4.11.16/Fitabase Data 3.12.16-4.11.16/minuteStepsNarrow_merged.csv\n",
      "/kaggle/input/fitbit/mturkfitbit_export_3.12.16-4.11.16/Fitabase Data 3.12.16-4.11.16/minuteIntensitiesNarrow_merged.csv\n",
      "/kaggle/input/fitbit/mturkfitbit_export_3.12.16-4.11.16/Fitabase Data 3.12.16-4.11.16/dailyActivity_merged.csv\n",
      "/kaggle/input/fitbit/mturkfitbit_export_4.12.16-5.12.16/Fitabase Data 4.12.16-5.12.16/minuteCaloriesNarrow_merged.csv\n",
      "/kaggle/input/fitbit/mturkfitbit_export_4.12.16-5.12.16/Fitabase Data 4.12.16-5.12.16/weightLogInfo_merged.csv\n",
      "/kaggle/input/fitbit/mturkfitbit_export_4.12.16-5.12.16/Fitabase Data 4.12.16-5.12.16/sleepDay_merged.csv\n",
      "/kaggle/input/fitbit/mturkfitbit_export_4.12.16-5.12.16/Fitabase Data 4.12.16-5.12.16/dailyIntensities_merged.csv\n",
      "/kaggle/input/fitbit/mturkfitbit_export_4.12.16-5.12.16/Fitabase Data 4.12.16-5.12.16/minuteIntensitiesWide_merged.csv\n",
      "/kaggle/input/fitbit/mturkfitbit_export_4.12.16-5.12.16/Fitabase Data 4.12.16-5.12.16/minuteMETsNarrow_merged.csv\n",
      "/kaggle/input/fitbit/mturkfitbit_export_4.12.16-5.12.16/Fitabase Data 4.12.16-5.12.16/dailyCalories_merged.csv\n",
      "/kaggle/input/fitbit/mturkfitbit_export_4.12.16-5.12.16/Fitabase Data 4.12.16-5.12.16/hourlyCalories_merged.csv\n",
      "/kaggle/input/fitbit/mturkfitbit_export_4.12.16-5.12.16/Fitabase Data 4.12.16-5.12.16/heartrate_seconds_merged.csv\n",
      "/kaggle/input/fitbit/mturkfitbit_export_4.12.16-5.12.16/Fitabase Data 4.12.16-5.12.16/minuteSleep_merged.csv\n",
      "/kaggle/input/fitbit/mturkfitbit_export_4.12.16-5.12.16/Fitabase Data 4.12.16-5.12.16/hourlyIntensities_merged.csv\n",
      "/kaggle/input/fitbit/mturkfitbit_export_4.12.16-5.12.16/Fitabase Data 4.12.16-5.12.16/hourlySteps_merged.csv\n",
      "/kaggle/input/fitbit/mturkfitbit_export_4.12.16-5.12.16/Fitabase Data 4.12.16-5.12.16/minuteStepsNarrow_merged.csv\n",
      "/kaggle/input/fitbit/mturkfitbit_export_4.12.16-5.12.16/Fitabase Data 4.12.16-5.12.16/dailySteps_merged.csv\n",
      "/kaggle/input/fitbit/mturkfitbit_export_4.12.16-5.12.16/Fitabase Data 4.12.16-5.12.16/minuteStepsWide_merged.csv\n",
      "/kaggle/input/fitbit/mturkfitbit_export_4.12.16-5.12.16/Fitabase Data 4.12.16-5.12.16/minuteIntensitiesNarrow_merged.csv\n",
      "/kaggle/input/fitbit/mturkfitbit_export_4.12.16-5.12.16/Fitabase Data 4.12.16-5.12.16/minuteCaloriesWide_merged.csv\n",
      "/kaggle/input/fitbit/mturkfitbit_export_4.12.16-5.12.16/Fitabase Data 4.12.16-5.12.16/dailyActivity_merged.csv\n"
     ]
    }
   ],
   "source": [
    "# This Python 3 environment comes with many helpful analytics libraries installed\n",
    "# It is defined by the kaggle/python Docker image: https://github.com/kaggle/docker-python\n",
    "# For example, here's several helpful packages to load\n",
    "\n",
    "import numpy as np # linear algebra\n",
    "import pandas as pd # data processing, CSV file I/O (e.g. pd.read_csv)\n",
    "\n",
    "# Input data files are available in the read-only \"../input/\" directory\n",
    "# For example, running this (by clicking run or pressing Shift+Enter) will list all files under the input directory\n",
    "\n",
    "import os\n",
    "for dirname, _, filenames in os.walk('/kaggle/input'):\n",
    "    for filename in filenames:\n",
    "        print(os.path.join(dirname, filename))\n",
    "\n",
    "# You can write up to 20GB to the current directory (/kaggle/working/) that gets preserved as output when you create a version using \"Save & Run All\" \n",
    "# You can also write temporary files to /kaggle/temp/, but they won't be saved outside of the current session"
   ]
  },
  {
   "cell_type": "markdown",
   "id": "6425d993",
   "metadata": {
    "papermill": {
     "duration": 0.005782,
     "end_time": "2024-07-11T13:17:54.871332",
     "exception": false,
     "start_time": "2024-07-11T13:17:54.865550",
     "status": "completed"
    },
    "tags": []
   },
   "source": [
    "# Preparing my enviroment"
   ]
  },
  {
   "cell_type": "code",
   "execution_count": 2,
   "id": "93bfb9eb",
   "metadata": {
    "execution": {
     "iopub.execute_input": "2024-07-11T13:17:54.885947Z",
     "iopub.status.busy": "2024-07-11T13:17:54.884897Z",
     "iopub.status.idle": "2024-07-11T13:17:56.362724Z",
     "shell.execute_reply": "2024-07-11T13:17:56.361726Z"
    },
    "papermill": {
     "duration": 1.488018,
     "end_time": "2024-07-11T13:17:56.365287",
     "exception": false,
     "start_time": "2024-07-11T13:17:54.877269",
     "status": "completed"
    },
    "tags": []
   },
   "outputs": [],
   "source": [
    "import pandas as pd\n",
    "import numpy as np\n",
    "import matplotlib.pyplot as plt\n",
    "import seaborn as sns\n",
    "plt.style.use('ggplot')\n",
    "import datetime as dt\n",
    "\n",
    "# pd.set_option('max_column')"
   ]
  },
  {
   "cell_type": "markdown",
   "id": "48864aa8",
   "metadata": {
    "papermill": {
     "duration": 0.005528,
     "end_time": "2024-07-11T13:17:56.376853",
     "exception": false,
     "start_time": "2024-07-11T13:17:56.371325",
     "status": "completed"
    },
    "tags": []
   },
   "source": [
    "# perpare the data"
   ]
  },
  {
   "cell_type": "code",
   "execution_count": 3,
   "id": "aa3204b2",
   "metadata": {
    "execution": {
     "iopub.execute_input": "2024-07-11T13:17:56.390457Z",
     "iopub.status.busy": "2024-07-11T13:17:56.390015Z",
     "iopub.status.idle": "2024-07-11T13:17:56.415098Z",
     "shell.execute_reply": "2024-07-11T13:17:56.414057Z"
    },
    "papermill": {
     "duration": 0.03518,
     "end_time": "2024-07-11T13:17:56.417882",
     "exception": false,
     "start_time": "2024-07-11T13:17:56.382702",
     "status": "completed"
    },
    "tags": []
   },
   "outputs": [],
   "source": [
    "df = pd.read_csv('/kaggle/input/fitbit/mturkfitbit_export_4.12.16-5.12.16/Fitabase Data 4.12.16-5.12.16/dailyActivity_merged.csv')"
   ]
  },
  {
   "cell_type": "code",
   "execution_count": 4,
   "id": "1c462705",
   "metadata": {
    "execution": {
     "iopub.execute_input": "2024-07-11T13:17:56.431525Z",
     "iopub.status.busy": "2024-07-11T13:17:56.431125Z",
     "iopub.status.idle": "2024-07-11T13:17:56.439341Z",
     "shell.execute_reply": "2024-07-11T13:17:56.437966Z"
    },
    "papermill": {
     "duration": 0.017852,
     "end_time": "2024-07-11T13:17:56.441791",
     "exception": false,
     "start_time": "2024-07-11T13:17:56.423939",
     "status": "completed"
    },
    "tags": []
   },
   "outputs": [
    {
     "data": {
      "text/plain": [
       "(940, 15)"
      ]
     },
     "execution_count": 4,
     "metadata": {},
     "output_type": "execute_result"
    }
   ],
   "source": [
    "df.shape"
   ]
  },
  {
   "cell_type": "code",
   "execution_count": 5,
   "id": "8c6f41ca",
   "metadata": {
    "execution": {
     "iopub.execute_input": "2024-07-11T13:17:56.456688Z",
     "iopub.status.busy": "2024-07-11T13:17:56.456291Z",
     "iopub.status.idle": "2024-07-11T13:17:56.466390Z",
     "shell.execute_reply": "2024-07-11T13:17:56.465084Z"
    },
    "papermill": {
     "duration": 0.020487,
     "end_time": "2024-07-11T13:17:56.468962",
     "exception": false,
     "start_time": "2024-07-11T13:17:56.448475",
     "status": "completed"
    },
    "tags": []
   },
   "outputs": [
    {
     "data": {
      "text/plain": [
       "Index(['Id', 'ActivityDate', 'TotalSteps', 'TotalDistance', 'TrackerDistance',\n",
       "       'LoggedActivitiesDistance', 'VeryActiveDistance',\n",
       "       'ModeratelyActiveDistance', 'LightActiveDistance',\n",
       "       'SedentaryActiveDistance', 'VeryActiveMinutes', 'FairlyActiveMinutes',\n",
       "       'LightlyActiveMinutes', 'SedentaryMinutes', 'Calories'],\n",
       "      dtype='object')"
      ]
     },
     "execution_count": 5,
     "metadata": {},
     "output_type": "execute_result"
    }
   ],
   "source": [
    "df.columns"
   ]
  },
  {
   "cell_type": "code",
   "execution_count": 6,
   "id": "e14ded4f",
   "metadata": {
    "execution": {
     "iopub.execute_input": "2024-07-11T13:17:56.483409Z",
     "iopub.status.busy": "2024-07-11T13:17:56.482962Z",
     "iopub.status.idle": "2024-07-11T13:17:56.512800Z",
     "shell.execute_reply": "2024-07-11T13:17:56.511715Z"
    },
    "papermill": {
     "duration": 0.040118,
     "end_time": "2024-07-11T13:17:56.515401",
     "exception": false,
     "start_time": "2024-07-11T13:17:56.475283",
     "status": "completed"
    },
    "tags": []
   },
   "outputs": [
    {
     "data": {
      "text/html": [
       "<div>\n",
       "<style scoped>\n",
       "    .dataframe tbody tr th:only-of-type {\n",
       "        vertical-align: middle;\n",
       "    }\n",
       "\n",
       "    .dataframe tbody tr th {\n",
       "        vertical-align: top;\n",
       "    }\n",
       "\n",
       "    .dataframe thead th {\n",
       "        text-align: right;\n",
       "    }\n",
       "</style>\n",
       "<table border=\"1\" class=\"dataframe\">\n",
       "  <thead>\n",
       "    <tr style=\"text-align: right;\">\n",
       "      <th></th>\n",
       "      <th>Id</th>\n",
       "      <th>ActivityDate</th>\n",
       "      <th>TotalSteps</th>\n",
       "      <th>TotalDistance</th>\n",
       "      <th>TrackerDistance</th>\n",
       "      <th>LoggedActivitiesDistance</th>\n",
       "      <th>VeryActiveDistance</th>\n",
       "      <th>ModeratelyActiveDistance</th>\n",
       "      <th>LightActiveDistance</th>\n",
       "      <th>SedentaryActiveDistance</th>\n",
       "      <th>VeryActiveMinutes</th>\n",
       "      <th>FairlyActiveMinutes</th>\n",
       "      <th>LightlyActiveMinutes</th>\n",
       "      <th>SedentaryMinutes</th>\n",
       "      <th>Calories</th>\n",
       "    </tr>\n",
       "  </thead>\n",
       "  <tbody>\n",
       "    <tr>\n",
       "      <th>0</th>\n",
       "      <td>1503960366</td>\n",
       "      <td>4/12/2016</td>\n",
       "      <td>13162</td>\n",
       "      <td>8.50</td>\n",
       "      <td>8.50</td>\n",
       "      <td>0.0</td>\n",
       "      <td>1.88</td>\n",
       "      <td>0.55</td>\n",
       "      <td>6.06</td>\n",
       "      <td>0.0</td>\n",
       "      <td>25</td>\n",
       "      <td>13</td>\n",
       "      <td>328</td>\n",
       "      <td>728</td>\n",
       "      <td>1985</td>\n",
       "    </tr>\n",
       "    <tr>\n",
       "      <th>1</th>\n",
       "      <td>1503960366</td>\n",
       "      <td>4/13/2016</td>\n",
       "      <td>10735</td>\n",
       "      <td>6.97</td>\n",
       "      <td>6.97</td>\n",
       "      <td>0.0</td>\n",
       "      <td>1.57</td>\n",
       "      <td>0.69</td>\n",
       "      <td>4.71</td>\n",
       "      <td>0.0</td>\n",
       "      <td>21</td>\n",
       "      <td>19</td>\n",
       "      <td>217</td>\n",
       "      <td>776</td>\n",
       "      <td>1797</td>\n",
       "    </tr>\n",
       "    <tr>\n",
       "      <th>2</th>\n",
       "      <td>1503960366</td>\n",
       "      <td>4/14/2016</td>\n",
       "      <td>10460</td>\n",
       "      <td>6.74</td>\n",
       "      <td>6.74</td>\n",
       "      <td>0.0</td>\n",
       "      <td>2.44</td>\n",
       "      <td>0.40</td>\n",
       "      <td>3.91</td>\n",
       "      <td>0.0</td>\n",
       "      <td>30</td>\n",
       "      <td>11</td>\n",
       "      <td>181</td>\n",
       "      <td>1218</td>\n",
       "      <td>1776</td>\n",
       "    </tr>\n",
       "    <tr>\n",
       "      <th>3</th>\n",
       "      <td>1503960366</td>\n",
       "      <td>4/15/2016</td>\n",
       "      <td>9762</td>\n",
       "      <td>6.28</td>\n",
       "      <td>6.28</td>\n",
       "      <td>0.0</td>\n",
       "      <td>2.14</td>\n",
       "      <td>1.26</td>\n",
       "      <td>2.83</td>\n",
       "      <td>0.0</td>\n",
       "      <td>29</td>\n",
       "      <td>34</td>\n",
       "      <td>209</td>\n",
       "      <td>726</td>\n",
       "      <td>1745</td>\n",
       "    </tr>\n",
       "    <tr>\n",
       "      <th>4</th>\n",
       "      <td>1503960366</td>\n",
       "      <td>4/16/2016</td>\n",
       "      <td>12669</td>\n",
       "      <td>8.16</td>\n",
       "      <td>8.16</td>\n",
       "      <td>0.0</td>\n",
       "      <td>2.71</td>\n",
       "      <td>0.41</td>\n",
       "      <td>5.04</td>\n",
       "      <td>0.0</td>\n",
       "      <td>36</td>\n",
       "      <td>10</td>\n",
       "      <td>221</td>\n",
       "      <td>773</td>\n",
       "      <td>1863</td>\n",
       "    </tr>\n",
       "  </tbody>\n",
       "</table>\n",
       "</div>"
      ],
      "text/plain": [
       "           Id ActivityDate  TotalSteps  TotalDistance  TrackerDistance  \\\n",
       "0  1503960366    4/12/2016       13162           8.50             8.50   \n",
       "1  1503960366    4/13/2016       10735           6.97             6.97   \n",
       "2  1503960366    4/14/2016       10460           6.74             6.74   \n",
       "3  1503960366    4/15/2016        9762           6.28             6.28   \n",
       "4  1503960366    4/16/2016       12669           8.16             8.16   \n",
       "\n",
       "   LoggedActivitiesDistance  VeryActiveDistance  ModeratelyActiveDistance  \\\n",
       "0                       0.0                1.88                      0.55   \n",
       "1                       0.0                1.57                      0.69   \n",
       "2                       0.0                2.44                      0.40   \n",
       "3                       0.0                2.14                      1.26   \n",
       "4                       0.0                2.71                      0.41   \n",
       "\n",
       "   LightActiveDistance  SedentaryActiveDistance  VeryActiveMinutes  \\\n",
       "0                 6.06                      0.0                 25   \n",
       "1                 4.71                      0.0                 21   \n",
       "2                 3.91                      0.0                 30   \n",
       "3                 2.83                      0.0                 29   \n",
       "4                 5.04                      0.0                 36   \n",
       "\n",
       "   FairlyActiveMinutes  LightlyActiveMinutes  SedentaryMinutes  Calories  \n",
       "0                   13                   328               728      1985  \n",
       "1                   19                   217               776      1797  \n",
       "2                   11                   181              1218      1776  \n",
       "3                   34                   209               726      1745  \n",
       "4                   10                   221               773      1863  "
      ]
     },
     "execution_count": 6,
     "metadata": {},
     "output_type": "execute_result"
    }
   ],
   "source": [
    "df.head()"
   ]
  },
  {
   "cell_type": "code",
   "execution_count": 7,
   "id": "884b0c49",
   "metadata": {
    "execution": {
     "iopub.execute_input": "2024-07-11T13:17:56.531149Z",
     "iopub.status.busy": "2024-07-11T13:17:56.530099Z",
     "iopub.status.idle": "2024-07-11T13:17:56.539843Z",
     "shell.execute_reply": "2024-07-11T13:17:56.538446Z"
    },
    "papermill": {
     "duration": 0.020732,
     "end_time": "2024-07-11T13:17:56.542611",
     "exception": false,
     "start_time": "2024-07-11T13:17:56.521879",
     "status": "completed"
    },
    "tags": []
   },
   "outputs": [
    {
     "data": {
      "text/plain": [
       "Id                            int64\n",
       "ActivityDate                 object\n",
       "TotalSteps                    int64\n",
       "TotalDistance               float64\n",
       "TrackerDistance             float64\n",
       "LoggedActivitiesDistance    float64\n",
       "VeryActiveDistance          float64\n",
       "ModeratelyActiveDistance    float64\n",
       "LightActiveDistance         float64\n",
       "SedentaryActiveDistance     float64\n",
       "VeryActiveMinutes             int64\n",
       "FairlyActiveMinutes           int64\n",
       "LightlyActiveMinutes          int64\n",
       "SedentaryMinutes              int64\n",
       "Calories                      int64\n",
       "dtype: object"
      ]
     },
     "execution_count": 7,
     "metadata": {},
     "output_type": "execute_result"
    }
   ],
   "source": [
    "df.dtypes"
   ]
  },
  {
   "cell_type": "markdown",
   "id": "2a79a497",
   "metadata": {
    "papermill": {
     "duration": 0.006632,
     "end_time": "2024-07-11T13:17:56.556065",
     "exception": false,
     "start_time": "2024-07-11T13:17:56.549433",
     "status": "completed"
    },
    "tags": []
   },
   "source": [
    "# cleaning the data"
   ]
  },
  {
   "cell_type": "code",
   "execution_count": 8,
   "id": "40919cd5",
   "metadata": {
    "execution": {
     "iopub.execute_input": "2024-07-11T13:17:56.571749Z",
     "iopub.status.busy": "2024-07-11T13:17:56.570610Z",
     "iopub.status.idle": "2024-07-11T13:17:56.593301Z",
     "shell.execute_reply": "2024-07-11T13:17:56.592005Z"
    },
    "papermill": {
     "duration": 0.033387,
     "end_time": "2024-07-11T13:17:56.596070",
     "exception": false,
     "start_time": "2024-07-11T13:17:56.562683",
     "status": "completed"
    },
    "tags": []
   },
   "outputs": [
    {
     "data": {
      "text/plain": [
       "Id                                  object\n",
       "ActivityDate                datetime64[ns]\n",
       "TotalSteps                           int64\n",
       "TotalDistance                      float64\n",
       "TrackerDistance                    float64\n",
       "LoggedActivitiesDistance           float64\n",
       "VeryActiveDistance                 float64\n",
       "ModeratelyActiveDistance           float64\n",
       "LightActiveDistance                float64\n",
       "SedentaryActiveDistance            float64\n",
       "VeryActiveMinutes                    int64\n",
       "FairlyActiveMinutes                  int64\n",
       "LightlyActiveMinutes                 int64\n",
       "SedentaryMinutes                     int64\n",
       "Calories                             int64\n",
       "dtype: object"
      ]
     },
     "execution_count": 8,
     "metadata": {},
     "output_type": "execute_result"
    }
   ],
   "source": [
    "df['Id']=df['Id'].astype(str)\n",
    "df['ActivityDate']=pd.to_datetime(df['ActivityDate'],format='%m/%d/%Y')\n",
    "df.dtypes"
   ]
  },
  {
   "cell_type": "code",
   "execution_count": 9,
   "id": "87ce64a6",
   "metadata": {
    "execution": {
     "iopub.execute_input": "2024-07-11T13:17:56.612067Z",
     "iopub.status.busy": "2024-07-11T13:17:56.611019Z",
     "iopub.status.idle": "2024-07-11T13:17:56.628077Z",
     "shell.execute_reply": "2024-07-11T13:17:56.626820Z"
    },
    "papermill": {
     "duration": 0.027378,
     "end_time": "2024-07-11T13:17:56.630362",
     "exception": false,
     "start_time": "2024-07-11T13:17:56.602984",
     "status": "completed"
    },
    "tags": []
   },
   "outputs": [
    {
     "data": {
      "text/plain": [
       "distance_diff\n",
       "0.000000    925\n",
       "1.830000      1\n",
       "0.190001      1\n",
       "0.040000      1\n",
       "0.810000      1\n",
       "1.049999      1\n",
       "0.760000      1\n",
       "1.070000      1\n",
       "0.980000      1\n",
       "0.900001      1\n",
       "1.140000      1\n",
       "1.160000      1\n",
       "0.880000      1\n",
       "0.460000      1\n",
       "1.160000      1\n",
       "1.060000      1\n",
       "Name: count, dtype: int64"
      ]
     },
     "execution_count": 9,
     "metadata": {},
     "output_type": "execute_result"
    }
   ],
   "source": [
    "df['distance_diff']=df['TotalDistance']-df['TrackerDistance']\n",
    "df['distance_diff'].value_counts()"
   ]
  },
  {
   "cell_type": "code",
   "execution_count": 10,
   "id": "e17425b9",
   "metadata": {
    "execution": {
     "iopub.execute_input": "2024-07-11T13:17:56.645697Z",
     "iopub.status.busy": "2024-07-11T13:17:56.645322Z",
     "iopub.status.idle": "2024-07-11T13:17:56.685657Z",
     "shell.execute_reply": "2024-07-11T13:17:56.684454Z"
    },
    "papermill": {
     "duration": 0.051211,
     "end_time": "2024-07-11T13:17:56.688377",
     "exception": false,
     "start_time": "2024-07-11T13:17:56.637166",
     "status": "completed"
    },
    "tags": []
   },
   "outputs": [
    {
     "data": {
      "text/html": [
       "<div>\n",
       "<style scoped>\n",
       "    .dataframe tbody tr th:only-of-type {\n",
       "        vertical-align: middle;\n",
       "    }\n",
       "\n",
       "    .dataframe tbody tr th {\n",
       "        vertical-align: top;\n",
       "    }\n",
       "\n",
       "    .dataframe thead th {\n",
       "        text-align: right;\n",
       "    }\n",
       "</style>\n",
       "<table border=\"1\" class=\"dataframe\">\n",
       "  <thead>\n",
       "    <tr style=\"text-align: right;\">\n",
       "      <th></th>\n",
       "      <th>Id</th>\n",
       "      <th>ActivityDate</th>\n",
       "      <th>TotalSteps</th>\n",
       "      <th>TotalDistance</th>\n",
       "      <th>TrackerDistance</th>\n",
       "      <th>LoggedActivitiesDistance</th>\n",
       "      <th>VeryActiveDistance</th>\n",
       "      <th>ModeratelyActiveDistance</th>\n",
       "      <th>LightActiveDistance</th>\n",
       "      <th>SedentaryActiveDistance</th>\n",
       "      <th>VeryActiveMinutes</th>\n",
       "      <th>FairlyActiveMinutes</th>\n",
       "      <th>LightlyActiveMinutes</th>\n",
       "      <th>SedentaryMinutes</th>\n",
       "      <th>Calories</th>\n",
       "      <th>distance_diff</th>\n",
       "    </tr>\n",
       "  </thead>\n",
       "  <tbody>\n",
       "    <tr>\n",
       "      <th>689</th>\n",
       "      <td>6962181067</td>\n",
       "      <td>2016-04-21</td>\n",
       "      <td>11835</td>\n",
       "      <td>9.71</td>\n",
       "      <td>7.88</td>\n",
       "      <td>4.081692</td>\n",
       "      <td>3.99</td>\n",
       "      <td>2.10</td>\n",
       "      <td>3.51</td>\n",
       "      <td>0.11</td>\n",
       "      <td>53</td>\n",
       "      <td>27</td>\n",
       "      <td>214</td>\n",
       "      <td>708</td>\n",
       "      <td>2179</td>\n",
       "      <td>1.830000</td>\n",
       "    </tr>\n",
       "    <tr>\n",
       "      <th>693</th>\n",
       "      <td>6962181067</td>\n",
       "      <td>2016-04-25</td>\n",
       "      <td>13239</td>\n",
       "      <td>9.27</td>\n",
       "      <td>9.08</td>\n",
       "      <td>2.785175</td>\n",
       "      <td>3.02</td>\n",
       "      <td>1.68</td>\n",
       "      <td>4.46</td>\n",
       "      <td>0.10</td>\n",
       "      <td>35</td>\n",
       "      <td>31</td>\n",
       "      <td>282</td>\n",
       "      <td>637</td>\n",
       "      <td>2194</td>\n",
       "      <td>0.190001</td>\n",
       "    </tr>\n",
       "    <tr>\n",
       "      <th>707</th>\n",
       "      <td>6962181067</td>\n",
       "      <td>2016-05-09</td>\n",
       "      <td>12342</td>\n",
       "      <td>8.72</td>\n",
       "      <td>8.68</td>\n",
       "      <td>3.167822</td>\n",
       "      <td>3.90</td>\n",
       "      <td>1.18</td>\n",
       "      <td>3.65</td>\n",
       "      <td>0.00</td>\n",
       "      <td>43</td>\n",
       "      <td>21</td>\n",
       "      <td>231</td>\n",
       "      <td>607</td>\n",
       "      <td>2105</td>\n",
       "      <td>0.040000</td>\n",
       "    </tr>\n",
       "    <tr>\n",
       "      <th>711</th>\n",
       "      <td>7007744171</td>\n",
       "      <td>2016-04-12</td>\n",
       "      <td>14172</td>\n",
       "      <td>10.29</td>\n",
       "      <td>9.48</td>\n",
       "      <td>4.869783</td>\n",
       "      <td>4.50</td>\n",
       "      <td>0.38</td>\n",
       "      <td>5.41</td>\n",
       "      <td>0.00</td>\n",
       "      <td>53</td>\n",
       "      <td>8</td>\n",
       "      <td>355</td>\n",
       "      <td>1024</td>\n",
       "      <td>2937</td>\n",
       "      <td>0.810000</td>\n",
       "    </tr>\n",
       "    <tr>\n",
       "      <th>712</th>\n",
       "      <td>7007744171</td>\n",
       "      <td>2016-04-13</td>\n",
       "      <td>12862</td>\n",
       "      <td>9.65</td>\n",
       "      <td>8.60</td>\n",
       "      <td>4.851307</td>\n",
       "      <td>4.61</td>\n",
       "      <td>0.56</td>\n",
       "      <td>4.48</td>\n",
       "      <td>0.00</td>\n",
       "      <td>56</td>\n",
       "      <td>22</td>\n",
       "      <td>261</td>\n",
       "      <td>1101</td>\n",
       "      <td>2742</td>\n",
       "      <td>1.049999</td>\n",
       "    </tr>\n",
       "    <tr>\n",
       "      <th>713</th>\n",
       "      <td>7007744171</td>\n",
       "      <td>2016-04-14</td>\n",
       "      <td>11179</td>\n",
       "      <td>8.24</td>\n",
       "      <td>7.48</td>\n",
       "      <td>3.285415</td>\n",
       "      <td>2.95</td>\n",
       "      <td>0.34</td>\n",
       "      <td>4.96</td>\n",
       "      <td>0.00</td>\n",
       "      <td>34</td>\n",
       "      <td>6</td>\n",
       "      <td>304</td>\n",
       "      <td>1096</td>\n",
       "      <td>2668</td>\n",
       "      <td>0.760000</td>\n",
       "    </tr>\n",
       "    <tr>\n",
       "      <th>717</th>\n",
       "      <td>7007744171</td>\n",
       "      <td>2016-04-18</td>\n",
       "      <td>14816</td>\n",
       "      <td>10.98</td>\n",
       "      <td>9.91</td>\n",
       "      <td>4.930550</td>\n",
       "      <td>3.79</td>\n",
       "      <td>2.12</td>\n",
       "      <td>5.05</td>\n",
       "      <td>0.02</td>\n",
       "      <td>48</td>\n",
       "      <td>31</td>\n",
       "      <td>284</td>\n",
       "      <td>1077</td>\n",
       "      <td>2832</td>\n",
       "      <td>1.070000</td>\n",
       "    </tr>\n",
       "    <tr>\n",
       "      <th>718</th>\n",
       "      <td>7007744171</td>\n",
       "      <td>2016-04-19</td>\n",
       "      <td>14194</td>\n",
       "      <td>10.48</td>\n",
       "      <td>9.50</td>\n",
       "      <td>4.942142</td>\n",
       "      <td>4.41</td>\n",
       "      <td>0.76</td>\n",
       "      <td>5.31</td>\n",
       "      <td>0.00</td>\n",
       "      <td>53</td>\n",
       "      <td>17</td>\n",
       "      <td>304</td>\n",
       "      <td>1066</td>\n",
       "      <td>2812</td>\n",
       "      <td>0.980000</td>\n",
       "    </tr>\n",
       "    <tr>\n",
       "      <th>719</th>\n",
       "      <td>7007744171</td>\n",
       "      <td>2016-04-20</td>\n",
       "      <td>15566</td>\n",
       "      <td>11.31</td>\n",
       "      <td>10.41</td>\n",
       "      <td>4.924841</td>\n",
       "      <td>4.79</td>\n",
       "      <td>0.67</td>\n",
       "      <td>5.86</td>\n",
       "      <td>0.00</td>\n",
       "      <td>60</td>\n",
       "      <td>33</td>\n",
       "      <td>347</td>\n",
       "      <td>1000</td>\n",
       "      <td>3096</td>\n",
       "      <td>0.900001</td>\n",
       "    </tr>\n",
       "    <tr>\n",
       "      <th>724</th>\n",
       "      <td>7007744171</td>\n",
       "      <td>2016-04-25</td>\n",
       "      <td>18229</td>\n",
       "      <td>13.34</td>\n",
       "      <td>12.20</td>\n",
       "      <td>4.861792</td>\n",
       "      <td>4.31</td>\n",
       "      <td>1.37</td>\n",
       "      <td>7.67</td>\n",
       "      <td>0.00</td>\n",
       "      <td>51</td>\n",
       "      <td>24</td>\n",
       "      <td>379</td>\n",
       "      <td>986</td>\n",
       "      <td>3055</td>\n",
       "      <td>1.140000</td>\n",
       "    </tr>\n",
       "    <tr>\n",
       "      <th>726</th>\n",
       "      <td>7007744171</td>\n",
       "      <td>2016-04-27</td>\n",
       "      <td>13541</td>\n",
       "      <td>10.22</td>\n",
       "      <td>9.06</td>\n",
       "      <td>4.885605</td>\n",
       "      <td>4.27</td>\n",
       "      <td>0.66</td>\n",
       "      <td>5.29</td>\n",
       "      <td>0.00</td>\n",
       "      <td>50</td>\n",
       "      <td>12</td>\n",
       "      <td>337</td>\n",
       "      <td>1041</td>\n",
       "      <td>2830</td>\n",
       "      <td>1.160000</td>\n",
       "    </tr>\n",
       "    <tr>\n",
       "      <th>728</th>\n",
       "      <td>7007744171</td>\n",
       "      <td>2016-04-29</td>\n",
       "      <td>20067</td>\n",
       "      <td>14.30</td>\n",
       "      <td>13.42</td>\n",
       "      <td>4.911146</td>\n",
       "      <td>4.31</td>\n",
       "      <td>2.05</td>\n",
       "      <td>7.95</td>\n",
       "      <td>0.00</td>\n",
       "      <td>55</td>\n",
       "      <td>42</td>\n",
       "      <td>382</td>\n",
       "      <td>961</td>\n",
       "      <td>3180</td>\n",
       "      <td>0.880000</td>\n",
       "    </tr>\n",
       "    <tr>\n",
       "      <th>731</th>\n",
       "      <td>7007744171</td>\n",
       "      <td>2016-05-02</td>\n",
       "      <td>13041</td>\n",
       "      <td>9.18</td>\n",
       "      <td>8.72</td>\n",
       "      <td>2.832326</td>\n",
       "      <td>4.64</td>\n",
       "      <td>0.70</td>\n",
       "      <td>3.83</td>\n",
       "      <td>0.00</td>\n",
       "      <td>64</td>\n",
       "      <td>14</td>\n",
       "      <td>250</td>\n",
       "      <td>1112</td>\n",
       "      <td>2642</td>\n",
       "      <td>0.460000</td>\n",
       "    </tr>\n",
       "    <tr>\n",
       "      <th>732</th>\n",
       "      <td>7007744171</td>\n",
       "      <td>2016-05-03</td>\n",
       "      <td>14510</td>\n",
       "      <td>10.87</td>\n",
       "      <td>9.71</td>\n",
       "      <td>4.912368</td>\n",
       "      <td>4.48</td>\n",
       "      <td>1.02</td>\n",
       "      <td>5.36</td>\n",
       "      <td>0.00</td>\n",
       "      <td>58</td>\n",
       "      <td>31</td>\n",
       "      <td>330</td>\n",
       "      <td>1021</td>\n",
       "      <td>2976</td>\n",
       "      <td>1.160000</td>\n",
       "    </tr>\n",
       "    <tr>\n",
       "      <th>734</th>\n",
       "      <td>7007744171</td>\n",
       "      <td>2016-05-05</td>\n",
       "      <td>15010</td>\n",
       "      <td>11.10</td>\n",
       "      <td>10.04</td>\n",
       "      <td>4.878232</td>\n",
       "      <td>4.33</td>\n",
       "      <td>1.29</td>\n",
       "      <td>5.48</td>\n",
       "      <td>0.00</td>\n",
       "      <td>53</td>\n",
       "      <td>23</td>\n",
       "      <td>317</td>\n",
       "      <td>1047</td>\n",
       "      <td>2933</td>\n",
       "      <td>1.060000</td>\n",
       "    </tr>\n",
       "  </tbody>\n",
       "</table>\n",
       "</div>"
      ],
      "text/plain": [
       "             Id ActivityDate  TotalSteps  TotalDistance  TrackerDistance  \\\n",
       "689  6962181067   2016-04-21       11835           9.71             7.88   \n",
       "693  6962181067   2016-04-25       13239           9.27             9.08   \n",
       "707  6962181067   2016-05-09       12342           8.72             8.68   \n",
       "711  7007744171   2016-04-12       14172          10.29             9.48   \n",
       "712  7007744171   2016-04-13       12862           9.65             8.60   \n",
       "713  7007744171   2016-04-14       11179           8.24             7.48   \n",
       "717  7007744171   2016-04-18       14816          10.98             9.91   \n",
       "718  7007744171   2016-04-19       14194          10.48             9.50   \n",
       "719  7007744171   2016-04-20       15566          11.31            10.41   \n",
       "724  7007744171   2016-04-25       18229          13.34            12.20   \n",
       "726  7007744171   2016-04-27       13541          10.22             9.06   \n",
       "728  7007744171   2016-04-29       20067          14.30            13.42   \n",
       "731  7007744171   2016-05-02       13041           9.18             8.72   \n",
       "732  7007744171   2016-05-03       14510          10.87             9.71   \n",
       "734  7007744171   2016-05-05       15010          11.10            10.04   \n",
       "\n",
       "     LoggedActivitiesDistance  VeryActiveDistance  ModeratelyActiveDistance  \\\n",
       "689                  4.081692                3.99                      2.10   \n",
       "693                  2.785175                3.02                      1.68   \n",
       "707                  3.167822                3.90                      1.18   \n",
       "711                  4.869783                4.50                      0.38   \n",
       "712                  4.851307                4.61                      0.56   \n",
       "713                  3.285415                2.95                      0.34   \n",
       "717                  4.930550                3.79                      2.12   \n",
       "718                  4.942142                4.41                      0.76   \n",
       "719                  4.924841                4.79                      0.67   \n",
       "724                  4.861792                4.31                      1.37   \n",
       "726                  4.885605                4.27                      0.66   \n",
       "728                  4.911146                4.31                      2.05   \n",
       "731                  2.832326                4.64                      0.70   \n",
       "732                  4.912368                4.48                      1.02   \n",
       "734                  4.878232                4.33                      1.29   \n",
       "\n",
       "     LightActiveDistance  SedentaryActiveDistance  VeryActiveMinutes  \\\n",
       "689                 3.51                     0.11                 53   \n",
       "693                 4.46                     0.10                 35   \n",
       "707                 3.65                     0.00                 43   \n",
       "711                 5.41                     0.00                 53   \n",
       "712                 4.48                     0.00                 56   \n",
       "713                 4.96                     0.00                 34   \n",
       "717                 5.05                     0.02                 48   \n",
       "718                 5.31                     0.00                 53   \n",
       "719                 5.86                     0.00                 60   \n",
       "724                 7.67                     0.00                 51   \n",
       "726                 5.29                     0.00                 50   \n",
       "728                 7.95                     0.00                 55   \n",
       "731                 3.83                     0.00                 64   \n",
       "732                 5.36                     0.00                 58   \n",
       "734                 5.48                     0.00                 53   \n",
       "\n",
       "     FairlyActiveMinutes  LightlyActiveMinutes  SedentaryMinutes  Calories  \\\n",
       "689                   27                   214               708      2179   \n",
       "693                   31                   282               637      2194   \n",
       "707                   21                   231               607      2105   \n",
       "711                    8                   355              1024      2937   \n",
       "712                   22                   261              1101      2742   \n",
       "713                    6                   304              1096      2668   \n",
       "717                   31                   284              1077      2832   \n",
       "718                   17                   304              1066      2812   \n",
       "719                   33                   347              1000      3096   \n",
       "724                   24                   379               986      3055   \n",
       "726                   12                   337              1041      2830   \n",
       "728                   42                   382               961      3180   \n",
       "731                   14                   250              1112      2642   \n",
       "732                   31                   330              1021      2976   \n",
       "734                   23                   317              1047      2933   \n",
       "\n",
       "     distance_diff  \n",
       "689       1.830000  \n",
       "693       0.190001  \n",
       "707       0.040000  \n",
       "711       0.810000  \n",
       "712       1.049999  \n",
       "713       0.760000  \n",
       "717       1.070000  \n",
       "718       0.980000  \n",
       "719       0.900001  \n",
       "724       1.140000  \n",
       "726       1.160000  \n",
       "728       0.880000  \n",
       "731       0.460000  \n",
       "732       1.160000  \n",
       "734       1.060000  "
      ]
     },
     "execution_count": 10,
     "metadata": {},
     "output_type": "execute_result"
    }
   ],
   "source": [
    "df.query('distance_diff > 0.0')\n",
    "# TotalDistance column is not same as TrackerDistance"
   ]
  },
  {
   "cell_type": "code",
   "execution_count": 11,
   "id": "364264f8",
   "metadata": {
    "execution": {
     "iopub.execute_input": "2024-07-11T13:17:56.705049Z",
     "iopub.status.busy": "2024-07-11T13:17:56.704672Z",
     "iopub.status.idle": "2024-07-11T13:17:56.713487Z",
     "shell.execute_reply": "2024-07-11T13:17:56.711799Z"
    },
    "papermill": {
     "duration": 0.020169,
     "end_time": "2024-07-11T13:17:56.716028",
     "exception": false,
     "start_time": "2024-07-11T13:17:56.695859",
     "status": "completed"
    },
    "tags": []
   },
   "outputs": [],
   "source": [
    "# create columns\n",
    "day_of_week=df['ActivityDate'].dt.day_name()\n",
    "df['day_of_week']=day_of_week\n",
    "\n",
    "df['n_day_of_week']=df['ActivityDate'].dt.weekday\n",
    "# 0 is monday and 6 is sunday"
   ]
  },
  {
   "cell_type": "code",
   "execution_count": 12,
   "id": "6572280d",
   "metadata": {
    "execution": {
     "iopub.execute_input": "2024-07-11T13:17:56.733104Z",
     "iopub.status.busy": "2024-07-11T13:17:56.732099Z",
     "iopub.status.idle": "2024-07-11T13:17:56.740355Z",
     "shell.execute_reply": "2024-07-11T13:17:56.739005Z"
    },
    "papermill": {
     "duration": 0.019646,
     "end_time": "2024-07-11T13:17:56.743029",
     "exception": false,
     "start_time": "2024-07-11T13:17:56.723383",
     "status": "completed"
    },
    "tags": []
   },
   "outputs": [
    {
     "data": {
      "text/plain": [
       "Index(['Id', 'ActivityDate', 'TotalSteps', 'TotalDistance', 'TrackerDistance',\n",
       "       'LoggedActivitiesDistance', 'VeryActiveDistance',\n",
       "       'ModeratelyActiveDistance', 'LightActiveDistance',\n",
       "       'SedentaryActiveDistance', 'VeryActiveMinutes', 'FairlyActiveMinutes',\n",
       "       'LightlyActiveMinutes', 'SedentaryMinutes', 'Calories', 'distance_diff',\n",
       "       'day_of_week', 'n_day_of_week'],\n",
       "      dtype='object')"
      ]
     },
     "execution_count": 12,
     "metadata": {},
     "output_type": "execute_result"
    }
   ],
   "source": [
    "df.head()\n",
    "df.columns"
   ]
  },
  {
   "cell_type": "code",
   "execution_count": 13,
   "id": "7a5a6ea9",
   "metadata": {
    "execution": {
     "iopub.execute_input": "2024-07-11T13:17:56.760726Z",
     "iopub.status.busy": "2024-07-11T13:17:56.759870Z",
     "iopub.status.idle": "2024-07-11T13:17:56.769737Z",
     "shell.execute_reply": "2024-07-11T13:17:56.768487Z"
    },
    "papermill": {
     "duration": 0.021023,
     "end_time": "2024-07-11T13:17:56.772056",
     "exception": false,
     "start_time": "2024-07-11T13:17:56.751033",
     "status": "completed"
    },
    "tags": []
   },
   "outputs": [
    {
     "data": {
      "text/plain": [
       "Id                          0\n",
       "ActivityDate                0\n",
       "TotalSteps                  0\n",
       "TotalDistance               0\n",
       "TrackerDistance             0\n",
       "LoggedActivitiesDistance    0\n",
       "VeryActiveDistance          0\n",
       "ModeratelyActiveDistance    0\n",
       "LightActiveDistance         0\n",
       "SedentaryActiveDistance     0\n",
       "VeryActiveMinutes           0\n",
       "FairlyActiveMinutes         0\n",
       "LightlyActiveMinutes        0\n",
       "SedentaryMinutes            0\n",
       "Calories                    0\n",
       "distance_diff               0\n",
       "day_of_week                 0\n",
       "n_day_of_week               0\n",
       "dtype: int64"
      ]
     },
     "execution_count": 13,
     "metadata": {},
     "output_type": "execute_result"
    }
   ],
   "source": [
    "# checking null values\n",
    "df.isna().sum()"
   ]
  },
  {
   "cell_type": "code",
   "execution_count": 14,
   "id": "0ef1b01b",
   "metadata": {
    "execution": {
     "iopub.execute_input": "2024-07-11T13:17:56.789070Z",
     "iopub.status.busy": "2024-07-11T13:17:56.788638Z",
     "iopub.status.idle": "2024-07-11T13:17:56.799361Z",
     "shell.execute_reply": "2024-07-11T13:17:56.798075Z"
    },
    "papermill": {
     "duration": 0.022035,
     "end_time": "2024-07-11T13:17:56.801822",
     "exception": false,
     "start_time": "2024-07-11T13:17:56.779787",
     "status": "completed"
    },
    "tags": []
   },
   "outputs": [
    {
     "data": {
      "text/plain": [
       "Id                          0\n",
       "ActivityDate                0\n",
       "TotalSteps                  0\n",
       "TotalDistance               0\n",
       "TrackerDistance             0\n",
       "LoggedActivitiesDistance    0\n",
       "VeryActiveDistance          0\n",
       "ModeratelyActiveDistance    0\n",
       "LightActiveDistance         0\n",
       "SedentaryActiveDistance     0\n",
       "VeryActiveMinutes           0\n",
       "FairlyActiveMinutes         0\n",
       "LightlyActiveMinutes        0\n",
       "SedentaryMinutes            0\n",
       "Calories                    0\n",
       "distance_diff               0\n",
       "day_of_week                 0\n",
       "n_day_of_week               0\n",
       "dtype: int64"
      ]
     },
     "execution_count": 14,
     "metadata": {},
     "output_type": "execute_result"
    }
   ],
   "source": [
    "df.isnull().sum()"
   ]
  },
  {
   "cell_type": "code",
   "execution_count": 15,
   "id": "3b98f925",
   "metadata": {
    "execution": {
     "iopub.execute_input": "2024-07-11T13:17:56.820689Z",
     "iopub.status.busy": "2024-07-11T13:17:56.820260Z",
     "iopub.status.idle": "2024-07-11T13:17:56.832877Z",
     "shell.execute_reply": "2024-07-11T13:17:56.831613Z"
    },
    "papermill": {
     "duration": 0.025629,
     "end_time": "2024-07-11T13:17:56.835381",
     "exception": false,
     "start_time": "2024-07-11T13:17:56.809752",
     "status": "completed"
    },
    "tags": []
   },
   "outputs": [
    {
     "data": {
      "text/plain": [
       "0"
      ]
     },
     "execution_count": 15,
     "metadata": {},
     "output_type": "execute_result"
    }
   ],
   "source": [
    "# checking duplicates\n",
    "df.duplicated().sum()"
   ]
  },
  {
   "cell_type": "code",
   "execution_count": 16,
   "id": "2b54cc0b",
   "metadata": {
    "execution": {
     "iopub.execute_input": "2024-07-11T13:17:56.853087Z",
     "iopub.status.busy": "2024-07-11T13:17:56.852693Z",
     "iopub.status.idle": "2024-07-11T13:17:56.861834Z",
     "shell.execute_reply": "2024-07-11T13:17:56.860549Z"
    },
    "papermill": {
     "duration": 0.021162,
     "end_time": "2024-07-11T13:17:56.864553",
     "exception": false,
     "start_time": "2024-07-11T13:17:56.843391",
     "status": "completed"
    },
    "tags": []
   },
   "outputs": [],
   "source": [
    "# subset data\n",
    "df = df[['Id', 'ActivityDate', 'TotalSteps', 'TotalDistance', 'TrackerDistance',\n",
    "       'SedentaryActiveDistance', 'VeryActiveMinutes', 'FairlyActiveMinutes',\n",
    "       'LightlyActiveMinutes', 'SedentaryMinutes', 'Calories', 'day_of_week', 'n_day_of_week']].copy()"
   ]
  },
  {
   "cell_type": "code",
   "execution_count": 17,
   "id": "688adfa1",
   "metadata": {
    "execution": {
     "iopub.execute_input": "2024-07-11T13:17:56.883090Z",
     "iopub.status.busy": "2024-07-11T13:17:56.882701Z",
     "iopub.status.idle": "2024-07-11T13:17:56.901106Z",
     "shell.execute_reply": "2024-07-11T13:17:56.899605Z"
    },
    "papermill": {
     "duration": 0.03068,
     "end_time": "2024-07-11T13:17:56.903622",
     "exception": false,
     "start_time": "2024-07-11T13:17:56.872942",
     "status": "completed"
    },
    "tags": []
   },
   "outputs": [
    {
     "data": {
      "text/html": [
       "<div>\n",
       "<style scoped>\n",
       "    .dataframe tbody tr th:only-of-type {\n",
       "        vertical-align: middle;\n",
       "    }\n",
       "\n",
       "    .dataframe tbody tr th {\n",
       "        vertical-align: top;\n",
       "    }\n",
       "\n",
       "    .dataframe thead th {\n",
       "        text-align: right;\n",
       "    }\n",
       "</style>\n",
       "<table border=\"1\" class=\"dataframe\">\n",
       "  <thead>\n",
       "    <tr style=\"text-align: right;\">\n",
       "      <th></th>\n",
       "      <th>Id</th>\n",
       "      <th>ActivityDate</th>\n",
       "      <th>TotalSteps</th>\n",
       "      <th>TotalDistance</th>\n",
       "      <th>TrackerDistance</th>\n",
       "      <th>SedentaryActiveDistance</th>\n",
       "      <th>VeryActiveMinutes</th>\n",
       "      <th>FairlyActiveMinutes</th>\n",
       "      <th>LightlyActiveMinutes</th>\n",
       "      <th>SedentaryMinutes</th>\n",
       "      <th>Calories</th>\n",
       "      <th>day_of_week</th>\n",
       "      <th>n_day_of_week</th>\n",
       "    </tr>\n",
       "  </thead>\n",
       "  <tbody>\n",
       "    <tr>\n",
       "      <th>0</th>\n",
       "      <td>1503960366</td>\n",
       "      <td>2016-04-12</td>\n",
       "      <td>13162</td>\n",
       "      <td>8.50</td>\n",
       "      <td>8.50</td>\n",
       "      <td>0.0</td>\n",
       "      <td>25</td>\n",
       "      <td>13</td>\n",
       "      <td>328</td>\n",
       "      <td>728</td>\n",
       "      <td>1985</td>\n",
       "      <td>Tuesday</td>\n",
       "      <td>1</td>\n",
       "    </tr>\n",
       "    <tr>\n",
       "      <th>1</th>\n",
       "      <td>1503960366</td>\n",
       "      <td>2016-04-13</td>\n",
       "      <td>10735</td>\n",
       "      <td>6.97</td>\n",
       "      <td>6.97</td>\n",
       "      <td>0.0</td>\n",
       "      <td>21</td>\n",
       "      <td>19</td>\n",
       "      <td>217</td>\n",
       "      <td>776</td>\n",
       "      <td>1797</td>\n",
       "      <td>Wednesday</td>\n",
       "      <td>2</td>\n",
       "    </tr>\n",
       "    <tr>\n",
       "      <th>2</th>\n",
       "      <td>1503960366</td>\n",
       "      <td>2016-04-14</td>\n",
       "      <td>10460</td>\n",
       "      <td>6.74</td>\n",
       "      <td>6.74</td>\n",
       "      <td>0.0</td>\n",
       "      <td>30</td>\n",
       "      <td>11</td>\n",
       "      <td>181</td>\n",
       "      <td>1218</td>\n",
       "      <td>1776</td>\n",
       "      <td>Thursday</td>\n",
       "      <td>3</td>\n",
       "    </tr>\n",
       "    <tr>\n",
       "      <th>3</th>\n",
       "      <td>1503960366</td>\n",
       "      <td>2016-04-15</td>\n",
       "      <td>9762</td>\n",
       "      <td>6.28</td>\n",
       "      <td>6.28</td>\n",
       "      <td>0.0</td>\n",
       "      <td>29</td>\n",
       "      <td>34</td>\n",
       "      <td>209</td>\n",
       "      <td>726</td>\n",
       "      <td>1745</td>\n",
       "      <td>Friday</td>\n",
       "      <td>4</td>\n",
       "    </tr>\n",
       "    <tr>\n",
       "      <th>4</th>\n",
       "      <td>1503960366</td>\n",
       "      <td>2016-04-16</td>\n",
       "      <td>12669</td>\n",
       "      <td>8.16</td>\n",
       "      <td>8.16</td>\n",
       "      <td>0.0</td>\n",
       "      <td>36</td>\n",
       "      <td>10</td>\n",
       "      <td>221</td>\n",
       "      <td>773</td>\n",
       "      <td>1863</td>\n",
       "      <td>Saturday</td>\n",
       "      <td>5</td>\n",
       "    </tr>\n",
       "  </tbody>\n",
       "</table>\n",
       "</div>"
      ],
      "text/plain": [
       "           Id ActivityDate  TotalSteps  TotalDistance  TrackerDistance  \\\n",
       "0  1503960366   2016-04-12       13162           8.50             8.50   \n",
       "1  1503960366   2016-04-13       10735           6.97             6.97   \n",
       "2  1503960366   2016-04-14       10460           6.74             6.74   \n",
       "3  1503960366   2016-04-15        9762           6.28             6.28   \n",
       "4  1503960366   2016-04-16       12669           8.16             8.16   \n",
       "\n",
       "   SedentaryActiveDistance  VeryActiveMinutes  FairlyActiveMinutes  \\\n",
       "0                      0.0                 25                   13   \n",
       "1                      0.0                 21                   19   \n",
       "2                      0.0                 30                   11   \n",
       "3                      0.0                 29                   34   \n",
       "4                      0.0                 36                   10   \n",
       "\n",
       "   LightlyActiveMinutes  SedentaryMinutes  Calories day_of_week  n_day_of_week  \n",
       "0                   328               728      1985     Tuesday              1  \n",
       "1                   217               776      1797   Wednesday              2  \n",
       "2                   181              1218      1776    Thursday              3  \n",
       "3                   209               726      1745      Friday              4  \n",
       "4                   221               773      1863    Saturday              5  "
      ]
     },
     "execution_count": 17,
     "metadata": {},
     "output_type": "execute_result"
    }
   ],
   "source": [
    "df.head()"
   ]
  },
  {
   "cell_type": "markdown",
   "id": "a573d440",
   "metadata": {
    "papermill": {
     "duration": 0.008207,
     "end_time": "2024-07-11T13:17:56.919907",
     "exception": false,
     "start_time": "2024-07-11T13:17:56.911700",
     "status": "completed"
    },
    "tags": []
   },
   "source": [
    "# Analysis phase"
   ]
  },
  {
   "cell_type": "code",
   "execution_count": 18,
   "id": "3037743c",
   "metadata": {
    "execution": {
     "iopub.execute_input": "2024-07-11T13:17:56.938836Z",
     "iopub.status.busy": "2024-07-11T13:17:56.938427Z",
     "iopub.status.idle": "2024-07-11T13:17:56.968453Z",
     "shell.execute_reply": "2024-07-11T13:17:56.967309Z"
    },
    "papermill": {
     "duration": 0.042897,
     "end_time": "2024-07-11T13:17:56.971419",
     "exception": false,
     "start_time": "2024-07-11T13:17:56.928522",
     "status": "completed"
    },
    "tags": []
   },
   "outputs": [
    {
     "data": {
      "text/html": [
       "<div>\n",
       "<style scoped>\n",
       "    .dataframe tbody tr th:only-of-type {\n",
       "        vertical-align: middle;\n",
       "    }\n",
       "\n",
       "    .dataframe tbody tr th {\n",
       "        vertical-align: top;\n",
       "    }\n",
       "\n",
       "    .dataframe thead th {\n",
       "        text-align: right;\n",
       "    }\n",
       "</style>\n",
       "<table border=\"1\" class=\"dataframe\">\n",
       "  <thead>\n",
       "    <tr style=\"text-align: right;\">\n",
       "      <th></th>\n",
       "      <th>Id</th>\n",
       "      <th>ActivityDate</th>\n",
       "      <th>TotalSteps</th>\n",
       "      <th>TotalDistance</th>\n",
       "      <th>TrackerDistance</th>\n",
       "      <th>SedentaryActiveDistance</th>\n",
       "      <th>VeryActiveMinutes</th>\n",
       "      <th>FairlyActiveMinutes</th>\n",
       "      <th>LightlyActiveMinutes</th>\n",
       "      <th>SedentaryMinutes</th>\n",
       "      <th>Calories</th>\n",
       "      <th>day_of_week</th>\n",
       "      <th>n_day_of_week</th>\n",
       "      <th>activity_level</th>\n",
       "    </tr>\n",
       "  </thead>\n",
       "  <tbody>\n",
       "    <tr>\n",
       "      <th>0</th>\n",
       "      <td>1503960366</td>\n",
       "      <td>2016-04-12</td>\n",
       "      <td>13162</td>\n",
       "      <td>8.50</td>\n",
       "      <td>8.50</td>\n",
       "      <td>0.0</td>\n",
       "      <td>25</td>\n",
       "      <td>13</td>\n",
       "      <td>328</td>\n",
       "      <td>728</td>\n",
       "      <td>1985</td>\n",
       "      <td>Tuesday</td>\n",
       "      <td>1</td>\n",
       "      <td>very_active</td>\n",
       "    </tr>\n",
       "    <tr>\n",
       "      <th>1</th>\n",
       "      <td>1503960366</td>\n",
       "      <td>2016-04-13</td>\n",
       "      <td>10735</td>\n",
       "      <td>6.97</td>\n",
       "      <td>6.97</td>\n",
       "      <td>0.0</td>\n",
       "      <td>21</td>\n",
       "      <td>19</td>\n",
       "      <td>217</td>\n",
       "      <td>776</td>\n",
       "      <td>1797</td>\n",
       "      <td>Wednesday</td>\n",
       "      <td>2</td>\n",
       "      <td>very_active</td>\n",
       "    </tr>\n",
       "    <tr>\n",
       "      <th>2</th>\n",
       "      <td>1503960366</td>\n",
       "      <td>2016-04-14</td>\n",
       "      <td>10460</td>\n",
       "      <td>6.74</td>\n",
       "      <td>6.74</td>\n",
       "      <td>0.0</td>\n",
       "      <td>30</td>\n",
       "      <td>11</td>\n",
       "      <td>181</td>\n",
       "      <td>1218</td>\n",
       "      <td>1776</td>\n",
       "      <td>Thursday</td>\n",
       "      <td>3</td>\n",
       "      <td>very_active</td>\n",
       "    </tr>\n",
       "    <tr>\n",
       "      <th>3</th>\n",
       "      <td>1503960366</td>\n",
       "      <td>2016-04-15</td>\n",
       "      <td>9762</td>\n",
       "      <td>6.28</td>\n",
       "      <td>6.28</td>\n",
       "      <td>0.0</td>\n",
       "      <td>29</td>\n",
       "      <td>34</td>\n",
       "      <td>209</td>\n",
       "      <td>726</td>\n",
       "      <td>1745</td>\n",
       "      <td>Friday</td>\n",
       "      <td>4</td>\n",
       "      <td>very_active</td>\n",
       "    </tr>\n",
       "    <tr>\n",
       "      <th>4</th>\n",
       "      <td>1503960366</td>\n",
       "      <td>2016-04-16</td>\n",
       "      <td>12669</td>\n",
       "      <td>8.16</td>\n",
       "      <td>8.16</td>\n",
       "      <td>0.0</td>\n",
       "      <td>36</td>\n",
       "      <td>10</td>\n",
       "      <td>221</td>\n",
       "      <td>773</td>\n",
       "      <td>1863</td>\n",
       "      <td>Saturday</td>\n",
       "      <td>5</td>\n",
       "      <td>very_active</td>\n",
       "    </tr>\n",
       "  </tbody>\n",
       "</table>\n",
       "</div>"
      ],
      "text/plain": [
       "           Id ActivityDate  TotalSteps  TotalDistance  TrackerDistance  \\\n",
       "0  1503960366   2016-04-12       13162           8.50             8.50   \n",
       "1  1503960366   2016-04-13       10735           6.97             6.97   \n",
       "2  1503960366   2016-04-14       10460           6.74             6.74   \n",
       "3  1503960366   2016-04-15        9762           6.28             6.28   \n",
       "4  1503960366   2016-04-16       12669           8.16             8.16   \n",
       "\n",
       "   SedentaryActiveDistance  VeryActiveMinutes  FairlyActiveMinutes  \\\n",
       "0                      0.0                 25                   13   \n",
       "1                      0.0                 21                   19   \n",
       "2                      0.0                 30                   11   \n",
       "3                      0.0                 29                   34   \n",
       "4                      0.0                 36                   10   \n",
       "\n",
       "   LightlyActiveMinutes  SedentaryMinutes  Calories day_of_week  \\\n",
       "0                   328               728      1985     Tuesday   \n",
       "1                   217               776      1797   Wednesday   \n",
       "2                   181              1218      1776    Thursday   \n",
       "3                   209               726      1745      Friday   \n",
       "4                   221               773      1863    Saturday   \n",
       "\n",
       "   n_day_of_week activity_level  \n",
       "0              1    very_active  \n",
       "1              2    very_active  \n",
       "2              3    very_active  \n",
       "3              4    very_active  \n",
       "4              5    very_active  "
      ]
     },
     "execution_count": 18,
     "metadata": {},
     "output_type": "execute_result"
    }
   ],
   "source": [
    "# 1st category\n",
    "# sendentary less than 6000\n",
    "# active between 6000 and 12000 on average\n",
    "# very active more than 12000 on average\n",
    "id_grp = df.groupby(['Id'])\n",
    "id_avg_step = id_grp['TotalSteps'].mean().sort_values(ascending=False)\n",
    "id_avg_step = id_avg_step.to_frame()\n",
    "\n",
    "conditions=[\n",
    "    (id_avg_step <= 6000),\n",
    "    (id_avg_step > 6000 ) & (id_avg_step < 12000),\n",
    "    (id_avg_step >= 12000)\n",
    "]\n",
    "values = ['sedentary','active','very_active']\n",
    "\n",
    "id_avg_step['activity_level'] = np.select(conditions,values)\n",
    "\n",
    "id_activity_level = id_avg_step['activity_level']\n",
    "\n",
    "df['activity_level'] = [id_activity_level[c] for c in df['Id']]\n",
    "\n",
    "df.head()"
   ]
  },
  {
   "cell_type": "code",
   "execution_count": 19,
   "id": "ece48d9a",
   "metadata": {
    "execution": {
     "iopub.execute_input": "2024-07-11T13:17:56.990661Z",
     "iopub.status.busy": "2024-07-11T13:17:56.990276Z",
     "iopub.status.idle": "2024-07-11T13:17:57.608691Z",
     "shell.execute_reply": "2024-07-11T13:17:57.607093Z"
    },
    "papermill": {
     "duration": 0.631829,
     "end_time": "2024-07-11T13:17:57.611539",
     "exception": false,
     "start_time": "2024-07-11T13:17:56.979710",
     "status": "completed"
    },
    "tags": []
   },
   "outputs": [
    {
     "data": {
      "text/plain": [
       "Text(0.5, 1.0, 'correlation calories vs. steps')"
      ]
     },
     "execution_count": 19,
     "metadata": {},
     "output_type": "execute_result"
    },
    {
     "data": {
      "image/png": "[encoded data removed]",
      "text/plain": [
       "<Figure size 640x480 with 1 Axes>"
      ]
     },
     "metadata": {},
     "output_type": "display_data"
    }
   ],
   "source": [
    "# correlation between steps and calories burned\n",
    "ax = sns.scatterplot(x='TotalSteps',y='Calories',data=df,hue=df['activity_level'])\n",
    "\n",
    "plt.title('correlation calories vs. steps')"
   ]
  },
  {
   "cell_type": "code",
   "execution_count": 20,
   "id": "0c5390be",
   "metadata": {
    "execution": {
     "iopub.execute_input": "2024-07-11T13:17:57.633907Z",
     "iopub.status.busy": "2024-07-11T13:17:57.633499Z",
     "iopub.status.idle": "2024-07-11T13:17:57.954940Z",
     "shell.execute_reply": "2024-07-11T13:17:57.953612Z"
    },
    "papermill": {
     "duration": 0.336092,
     "end_time": "2024-07-11T13:17:57.957698",
     "exception": false,
     "start_time": "2024-07-11T13:17:57.621606",
     "status": "completed"
    },
    "tags": []
   },
   "outputs": [
    {
     "data": {
      "text/plain": [
       "Text(0.5, 1.0, 'Avg number of steps per day')"
      ]
     },
     "execution_count": 20,
     "metadata": {},
     "output_type": "execute_result"
    },
    {
     "data": {
      "image/png": "[encoded data removed]",
      "text/plain": [
       "<Figure size 640x480 with 1 Axes>"
      ]
     },
     "metadata": {},
     "output_type": "display_data"
    }
   ],
   "source": [
    "# average steps per day\n",
    "\n",
    "fig,ax= plt.subplots(1,1)\n",
    "day_grp=df.groupby(['day_of_week'])\n",
    "avg_daily_steps=day_grp['TotalSteps'].mean()\n",
    "avg_steps = df['TotalSteps'].mean()\n",
    "\n",
    "\n",
    "plt.bar(avg_daily_steps.index,avg_daily_steps)\n",
    "# ax.axhline(y=avg_daily_steps ,color='blue',label='Avg daily steps')\n",
    "ax.set_ylabel('steps')\n",
    "ax.set_xlabel('Day of Week')\n",
    "ax.set_title('Avg number of steps per day')"
   ]
  }
 ],
 "metadata": {
  "kaggle": {
   "accelerator": "none",
   "dataSources": [
    {
     "datasetId": 1041311,
     "sourceId": 7746251,
     "sourceType": "datasetVersion"
    }
   ],
   "dockerImageVersionId": 30732,
   "isGpuEnabled": false,
   "isInternetEnabled": false,
   "language": "python",
   "sourceType": "notebook"
  },
  "kernelspec": {
   "display_name": "Python 3",
   "language": "python",
   "name": "python3"
  },
  "language_info": {
   "codemirror_mode": {
    "name": "ipython",
    "version": 3
   },
   "file_extension": ".py",
   "mimetype": "text/x-python",
   "name": "python",
   "nbconvert_exporter": "python",
   "pygments_lexer": "ipython3",
   "version": "3.10.13"
  },
  "papermill": {
   "default_parameters": {},
   "duration": 7.743093,
   "end_time": "2024-07-11T13:17:58.590101",
   "environment_variables": {},
   "exception": null,
   "input_path": "__notebook__.ipynb",
   "output_path": "__notebook__.ipynb",
   "parameters": {},
   "start_time": "2024-07-11T13:17:50.847008",
   "version": "2.5.0"
  }
 },
 "nbformat": 4,
 "nbformat_minor": 5
}
